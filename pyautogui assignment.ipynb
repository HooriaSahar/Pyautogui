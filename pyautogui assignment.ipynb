{
 "cells": [
  {
   "cell_type": "code",
   "execution_count": 1,
   "id": "8f7fd380",
   "metadata": {},
   "outputs": [],
   "source": [
    "import pyautogui"
   ]
  },
  {
   "cell_type": "code",
   "execution_count": 48,
   "id": "010833cc",
   "metadata": {},
   "outputs": [],
   "source": [
    "pyautogui.click(x=494, y=755, duration=1)\n",
    "pyautogui.PAUSE = 2\n",
    "pyautogui.click(x=287, y=49, duration=1)\n",
    "pyautogui.PAUSE = 2\n",
    "pyautogui.typewrite('youtube.com\\n')\n",
    "pyautogui.PAUSE = 2\n",
    "pyautogui.click(x=498, y=97, duration=1)\n",
    "pyautogui.PAUSE = 2\n",
    "pyautogui.typewrite('PIAIC\\n')\n",
    "pyautogui.PAUSE = 2\n",
    "pyautogui.click(x=440, y=485,duration=1)\n",
    "pyautogui.PAUSE = 2\n",
    "pyautogui.click(x=383, y=323,duration=1)\n",
    "pyautogui.PAUSE = 2\n",
    "pyautogui.click(x=542, y=701, duration=1)"
   ]
  },
  {
   "cell_type": "code",
   "execution_count": null,
   "id": "696ad0ad",
   "metadata": {},
   "outputs": [],
   "source": []
  }
 ],
 "metadata": {
  "kernelspec": {
   "display_name": "Python 3 (ipykernel)",
   "language": "python",
   "name": "python3"
  },
  "language_info": {
   "codemirror_mode": {
    "name": "ipython",
    "version": 3
   },
   "file_extension": ".py",
   "mimetype": "text/x-python",
   "name": "python",
   "nbconvert_exporter": "python",
   "pygments_lexer": "ipython3",
   "version": "3.9.13"
  }
 },
 "nbformat": 4,
 "nbformat_minor": 5
}
